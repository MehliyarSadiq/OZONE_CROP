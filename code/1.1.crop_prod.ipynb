{
 "cells": [
  {
   "cell_type": "code",
   "execution_count": 1,
   "metadata": {},
   "outputs": [
    {
     "name": "stderr",
     "output_type": "stream",
     "text": [
      "Loading required package: spam\n",
      "Loading required package: dotCall64\n",
      "Loading required package: grid\n",
      "Spam version 2.1-1 (2017-07-02) is loaded.\n",
      "Type 'help( Spam)' or 'demo( spam)' for a short introduction \n",
      "and overview of this package.\n",
      "Help for individual functions is also obtained by adding the\n",
      "suffix '.spam' to the function name, e.g. 'help( chol.spam)'.\n",
      "\n",
      "Attaching package: ‘spam’\n",
      "\n",
      "The following objects are masked from ‘package:base’:\n",
      "\n",
      "    backsolve, forwardsolve\n",
      "\n",
      "Loading required package: maps\n"
     ]
    }
   ],
   "source": [
    "# calculate crop production\n",
    "library(fields)\n",
    "source('~/Desktop/analysis/code/get_geo.R')"
   ]
  },
  {
   "cell_type": "code",
   "execution_count": 2,
   "metadata": {},
   "outputs": [],
   "source": [
    "# FAO crop data, 0.5 degree resolution\n",
    "load('~/Desktop/analysis/data/crop/crop.FAO-USDA.hres.0.5x0.5.1961-2010.RData')"
   ]
  },
  {
   "cell_type": "code",
   "execution_count": 3,
   "metadata": {},
   "outputs": [
    {
     "data": {
      "text/html": [
       "<ol class=list-inline>\n",
       "\t<li>'ApplyOverCountry'</li>\n",
       "\t<li>'ApplyOverState'</li>\n",
       "\t<li>'CountryData2LonLat'</li>\n",
       "\t<li>'NaN.to.zero'</li>\n",
       "\t<li>'UN.code.map'</li>\n",
       "\t<li>'area.latlon'</li>\n",
       "\t<li>'crop.name'</li>\n",
       "\t<li>'crop.prod'</li>\n",
       "\t<li>'crop.yield'</li>\n",
       "\t<li>'crop.yield.5yma'</li>\n",
       "\t<li>'dist.latlon'</li>\n",
       "\t<li>'find.Rlim'</li>\n",
       "\t<li>'find.cor'</li>\n",
       "\t<li>'find.lon.lat'</li>\n",
       "\t<li>'find.region.2.5x2.5'</li>\n",
       "\t<li>'find.region.2x2.5'</li>\n",
       "\t<li>'find.region.GISS'</li>\n",
       "\t<li>'find.region.gcap'</li>\n",
       "\t<li>'flip.lon'</li>\n",
       "\t<li>'get.info.nc'</li>\n",
       "\t<li>'harvest.area'</li>\n",
       "\t<li>'inv.terrain.colors'</li>\n",
       "\t<li>'invdist'</li>\n",
       "\t<li>'lat.0.5'</li>\n",
       "\t<li>'load.nc'</li>\n",
       "\t<li>'lon.0.5'</li>\n",
       "\t<li>'moran.I'</li>\n",
       "\t<li>'neighbor.avg'</li>\n",
       "\t<li>'par.uin'</li>\n",
       "\t<li>'plot.field'</li>\n",
       "\t<li>'plot.mod.obs.US'</li>\n",
       "\t<li>'plot.nc'</li>\n",
       "\t<li>'plot.site'</li>\n",
       "\t<li>'plot.vprof'</li>\n",
       "\t<li>'quick.image'</li>\n",
       "\t<li>'quiver'</li>\n",
       "\t<li>'rm.nonUS'</li>\n",
       "\t<li>'rm.nonUS.2.5x2.5'</li>\n",
       "\t<li>'rm.nonUS.2x2.5'</li>\n",
       "\t<li>'rm.nonUS.GISS'</li>\n",
       "\t<li>'rwb.colors'</li>\n",
       "\t<li>'sp.dissolve'</li>\n",
       "\t<li>'sp.dissolve.3D'</li>\n",
       "\t<li>'sp.regrid'</li>\n",
       "\t<li>'sp.regrid.3D'</li>\n",
       "\t<li>'spavg'</li>\n",
       "\t<li>'spsd'</li>\n",
       "\t<li>'state.code.map'</li>\n",
       "\t<li>'state.codes'</li>\n",
       "\t<li>'unit_info'</li>\n",
       "\t<li>'year.vec'</li>\n",
       "\t<li>'zero.to.NaN'</li>\n",
       "</ol>\n"
      ],
      "text/latex": [
       "\\begin{enumerate*}\n",
       "\\item 'ApplyOverCountry'\n",
       "\\item 'ApplyOverState'\n",
       "\\item 'CountryData2LonLat'\n",
       "\\item 'NaN.to.zero'\n",
       "\\item 'UN.code.map'\n",
       "\\item 'area.latlon'\n",
       "\\item 'crop.name'\n",
       "\\item 'crop.prod'\n",
       "\\item 'crop.yield'\n",
       "\\item 'crop.yield.5yma'\n",
       "\\item 'dist.latlon'\n",
       "\\item 'find.Rlim'\n",
       "\\item 'find.cor'\n",
       "\\item 'find.lon.lat'\n",
       "\\item 'find.region.2.5x2.5'\n",
       "\\item 'find.region.2x2.5'\n",
       "\\item 'find.region.GISS'\n",
       "\\item 'find.region.gcap'\n",
       "\\item 'flip.lon'\n",
       "\\item 'get.info.nc'\n",
       "\\item 'harvest.area'\n",
       "\\item 'inv.terrain.colors'\n",
       "\\item 'invdist'\n",
       "\\item 'lat.0.5'\n",
       "\\item 'load.nc'\n",
       "\\item 'lon.0.5'\n",
       "\\item 'moran.I'\n",
       "\\item 'neighbor.avg'\n",
       "\\item 'par.uin'\n",
       "\\item 'plot.field'\n",
       "\\item 'plot.mod.obs.US'\n",
       "\\item 'plot.nc'\n",
       "\\item 'plot.site'\n",
       "\\item 'plot.vprof'\n",
       "\\item 'quick.image'\n",
       "\\item 'quiver'\n",
       "\\item 'rm.nonUS'\n",
       "\\item 'rm.nonUS.2.5x2.5'\n",
       "\\item 'rm.nonUS.2x2.5'\n",
       "\\item 'rm.nonUS.GISS'\n",
       "\\item 'rwb.colors'\n",
       "\\item 'sp.dissolve'\n",
       "\\item 'sp.dissolve.3D'\n",
       "\\item 'sp.regrid'\n",
       "\\item 'sp.regrid.3D'\n",
       "\\item 'spavg'\n",
       "\\item 'spsd'\n",
       "\\item 'state.code.map'\n",
       "\\item 'state.codes'\n",
       "\\item 'unit\\_info'\n",
       "\\item 'year.vec'\n",
       "\\item 'zero.to.NaN'\n",
       "\\end{enumerate*}\n"
      ],
      "text/markdown": [
       "1. 'ApplyOverCountry'\n",
       "2. 'ApplyOverState'\n",
       "3. 'CountryData2LonLat'\n",
       "4. 'NaN.to.zero'\n",
       "5. 'UN.code.map'\n",
       "6. 'area.latlon'\n",
       "7. 'crop.name'\n",
       "8. 'crop.prod'\n",
       "9. 'crop.yield'\n",
       "10. 'crop.yield.5yma'\n",
       "11. 'dist.latlon'\n",
       "12. 'find.Rlim'\n",
       "13. 'find.cor'\n",
       "14. 'find.lon.lat'\n",
       "15. 'find.region.2.5x2.5'\n",
       "16. 'find.region.2x2.5'\n",
       "17. 'find.region.GISS'\n",
       "18. 'find.region.gcap'\n",
       "19. 'flip.lon'\n",
       "20. 'get.info.nc'\n",
       "21. 'harvest.area'\n",
       "22. 'inv.terrain.colors'\n",
       "23. 'invdist'\n",
       "24. 'lat.0.5'\n",
       "25. 'load.nc'\n",
       "26. 'lon.0.5'\n",
       "27. 'moran.I'\n",
       "28. 'neighbor.avg'\n",
       "29. 'par.uin'\n",
       "30. 'plot.field'\n",
       "31. 'plot.mod.obs.US'\n",
       "32. 'plot.nc'\n",
       "33. 'plot.site'\n",
       "34. 'plot.vprof'\n",
       "35. 'quick.image'\n",
       "36. 'quiver'\n",
       "37. 'rm.nonUS'\n",
       "38. 'rm.nonUS.2.5x2.5'\n",
       "39. 'rm.nonUS.2x2.5'\n",
       "40. 'rm.nonUS.GISS'\n",
       "41. 'rwb.colors'\n",
       "42. 'sp.dissolve'\n",
       "43. 'sp.dissolve.3D'\n",
       "44. 'sp.regrid'\n",
       "45. 'sp.regrid.3D'\n",
       "46. 'spavg'\n",
       "47. 'spsd'\n",
       "48. 'state.code.map'\n",
       "49. 'state.codes'\n",
       "50. 'unit_info'\n",
       "51. 'year.vec'\n",
       "52. 'zero.to.NaN'\n",
       "\n",
       "\n"
      ],
      "text/plain": [
       " [1] \"ApplyOverCountry\"    \"ApplyOverState\"      \"CountryData2LonLat\" \n",
       " [4] \"NaN.to.zero\"         \"UN.code.map\"         \"area.latlon\"        \n",
       " [7] \"crop.name\"           \"crop.prod\"           \"crop.yield\"         \n",
       "[10] \"crop.yield.5yma\"     \"dist.latlon\"         \"find.Rlim\"          \n",
       "[13] \"find.cor\"            \"find.lon.lat\"        \"find.region.2.5x2.5\"\n",
       "[16] \"find.region.2x2.5\"   \"find.region.GISS\"    \"find.region.gcap\"   \n",
       "[19] \"flip.lon\"            \"get.info.nc\"         \"harvest.area\"       \n",
       "[22] \"inv.terrain.colors\"  \"invdist\"             \"lat.0.5\"            \n",
       "[25] \"load.nc\"             \"lon.0.5\"             \"moran.I\"            \n",
       "[28] \"neighbor.avg\"        \"par.uin\"             \"plot.field\"         \n",
       "[31] \"plot.mod.obs.US\"     \"plot.nc\"             \"plot.site\"          \n",
       "[34] \"plot.vprof\"          \"quick.image\"         \"quiver\"             \n",
       "[37] \"rm.nonUS\"            \"rm.nonUS.2.5x2.5\"    \"rm.nonUS.2x2.5\"     \n",
       "[40] \"rm.nonUS.GISS\"       \"rwb.colors\"          \"sp.dissolve\"        \n",
       "[43] \"sp.dissolve.3D\"      \"sp.regrid\"           \"sp.regrid.3D\"       \n",
       "[46] \"spavg\"               \"spsd\"                \"state.code.map\"     \n",
       "[49] \"state.codes\"         \"unit_info\"           \"year.vec\"           \n",
       "[52] \"zero.to.NaN\"        "
      ]
     },
     "metadata": {},
     "output_type": "display_data"
    }
   ],
   "source": [
    "ls()"
   ]
  },
  {
   "cell_type": "code",
   "execution_count": 4,
   "metadata": {},
   "outputs": [
    {
     "data": {
      "text/html": [
       "<ol class=list-inline>\n",
       "\t<li>1961</li>\n",
       "\t<li>1962</li>\n",
       "\t<li>1963</li>\n",
       "\t<li>1964</li>\n",
       "\t<li>1965</li>\n",
       "\t<li>1966</li>\n",
       "\t<li>1967</li>\n",
       "\t<li>1968</li>\n",
       "\t<li>1969</li>\n",
       "\t<li>1970</li>\n",
       "\t<li>1971</li>\n",
       "\t<li>1972</li>\n",
       "\t<li>1973</li>\n",
       "\t<li>1974</li>\n",
       "\t<li>1975</li>\n",
       "\t<li>1976</li>\n",
       "\t<li>1977</li>\n",
       "\t<li>1978</li>\n",
       "\t<li>1979</li>\n",
       "\t<li>1980</li>\n",
       "\t<li>1981</li>\n",
       "\t<li>1982</li>\n",
       "\t<li>1983</li>\n",
       "\t<li>1984</li>\n",
       "\t<li>1985</li>\n",
       "\t<li>1986</li>\n",
       "\t<li>1987</li>\n",
       "\t<li>1988</li>\n",
       "\t<li>1989</li>\n",
       "\t<li>1990</li>\n",
       "\t<li>1991</li>\n",
       "\t<li>1992</li>\n",
       "\t<li>1993</li>\n",
       "\t<li>1994</li>\n",
       "\t<li>1995</li>\n",
       "\t<li>1996</li>\n",
       "\t<li>1997</li>\n",
       "\t<li>1998</li>\n",
       "\t<li>1999</li>\n",
       "\t<li>2000</li>\n",
       "\t<li>2001</li>\n",
       "\t<li>2002</li>\n",
       "\t<li>2003</li>\n",
       "\t<li>2004</li>\n",
       "\t<li>2005</li>\n",
       "\t<li>2006</li>\n",
       "\t<li>2007</li>\n",
       "\t<li>2008</li>\n",
       "\t<li>2009</li>\n",
       "\t<li>2010</li>\n",
       "</ol>\n"
      ],
      "text/latex": [
       "\\begin{enumerate*}\n",
       "\\item 1961\n",
       "\\item 1962\n",
       "\\item 1963\n",
       "\\item 1964\n",
       "\\item 1965\n",
       "\\item 1966\n",
       "\\item 1967\n",
       "\\item 1968\n",
       "\\item 1969\n",
       "\\item 1970\n",
       "\\item 1971\n",
       "\\item 1972\n",
       "\\item 1973\n",
       "\\item 1974\n",
       "\\item 1975\n",
       "\\item 1976\n",
       "\\item 1977\n",
       "\\item 1978\n",
       "\\item 1979\n",
       "\\item 1980\n",
       "\\item 1981\n",
       "\\item 1982\n",
       "\\item 1983\n",
       "\\item 1984\n",
       "\\item 1985\n",
       "\\item 1986\n",
       "\\item 1987\n",
       "\\item 1988\n",
       "\\item 1989\n",
       "\\item 1990\n",
       "\\item 1991\n",
       "\\item 1992\n",
       "\\item 1993\n",
       "\\item 1994\n",
       "\\item 1995\n",
       "\\item 1996\n",
       "\\item 1997\n",
       "\\item 1998\n",
       "\\item 1999\n",
       "\\item 2000\n",
       "\\item 2001\n",
       "\\item 2002\n",
       "\\item 2003\n",
       "\\item 2004\n",
       "\\item 2005\n",
       "\\item 2006\n",
       "\\item 2007\n",
       "\\item 2008\n",
       "\\item 2009\n",
       "\\item 2010\n",
       "\\end{enumerate*}\n"
      ],
      "text/markdown": [
       "1. 1961\n",
       "2. 1962\n",
       "3. 1963\n",
       "4. 1964\n",
       "5. 1965\n",
       "6. 1966\n",
       "7. 1967\n",
       "8. 1968\n",
       "9. 1969\n",
       "10. 1970\n",
       "11. 1971\n",
       "12. 1972\n",
       "13. 1973\n",
       "14. 1974\n",
       "15. 1975\n",
       "16. 1976\n",
       "17. 1977\n",
       "18. 1978\n",
       "19. 1979\n",
       "20. 1980\n",
       "21. 1981\n",
       "22. 1982\n",
       "23. 1983\n",
       "24. 1984\n",
       "25. 1985\n",
       "26. 1986\n",
       "27. 1987\n",
       "28. 1988\n",
       "29. 1989\n",
       "30. 1990\n",
       "31. 1991\n",
       "32. 1992\n",
       "33. 1993\n",
       "34. 1994\n",
       "35. 1995\n",
       "36. 1996\n",
       "37. 1997\n",
       "38. 1998\n",
       "39. 1999\n",
       "40. 2000\n",
       "41. 2001\n",
       "42. 2002\n",
       "43. 2003\n",
       "44. 2004\n",
       "45. 2005\n",
       "46. 2006\n",
       "47. 2007\n",
       "48. 2008\n",
       "49. 2009\n",
       "50. 2010\n",
       "\n",
       "\n"
      ],
      "text/plain": [
       " [1] 1961 1962 1963 1964 1965 1966 1967 1968 1969 1970 1971 1972 1973 1974 1975\n",
       "[16] 1976 1977 1978 1979 1980 1981 1982 1983 1984 1985 1986 1987 1988 1989 1990\n",
       "[31] 1991 1992 1993 1994 1995 1996 1997 1998 1999 2000 2001 2002 2003 2004 2005\n",
       "[46] 2006 2007 2008 2009 2010"
      ]
     },
     "metadata": {},
     "output_type": "display_data"
    }
   ],
   "source": [
    "year.vec"
   ]
  },
  {
   "cell_type": "code",
   "execution_count": 5,
   "metadata": {},
   "outputs": [
    {
     "data": {
      "text/html": [
       "<ol class=list-inline>\n",
       "\t<li>'wheat'</li>\n",
       "\t<li>'rice'</li>\n",
       "\t<li>'maize'</li>\n",
       "\t<li>'soybean'</li>\n",
       "</ol>\n"
      ],
      "text/latex": [
       "\\begin{enumerate*}\n",
       "\\item 'wheat'\n",
       "\\item 'rice'\n",
       "\\item 'maize'\n",
       "\\item 'soybean'\n",
       "\\end{enumerate*}\n"
      ],
      "text/markdown": [
       "1. 'wheat'\n",
       "2. 'rice'\n",
       "3. 'maize'\n",
       "4. 'soybean'\n",
       "\n",
       "\n"
      ],
      "text/plain": [
       "[1] \"wheat\"   \"rice\"    \"maize\"   \"soybean\""
      ]
     },
     "metadata": {},
     "output_type": "display_data"
    }
   ],
   "source": [
    "crop.name"
   ]
  },
  {
   "cell_type": "code",
   "execution_count": 6,
   "metadata": {},
   "outputs": [
    {
     "data": {
      "text/html": [
       "<ol class=list-inline>\n",
       "\t<li>720</li>\n",
       "\t<li>360</li>\n",
       "\t<li>50</li>\n",
       "\t<li>4</li>\n",
       "</ol>\n"
      ],
      "text/latex": [
       "\\begin{enumerate*}\n",
       "\\item 720\n",
       "\\item 360\n",
       "\\item 50\n",
       "\\item 4\n",
       "\\end{enumerate*}\n"
      ],
      "text/markdown": [
       "1. 720\n",
       "2. 360\n",
       "3. 50\n",
       "4. 4\n",
       "\n",
       "\n"
      ],
      "text/plain": [
       "[1] 720 360  50   4"
      ]
     },
     "metadata": {},
     "output_type": "display_data"
    }
   ],
   "source": [
    "crop_prod = crop.yield*harvest.area # [lon, lat, years, crops]\n",
    "dim(crop_prod)"
   ]
  },
  {
   "cell_type": "code",
   "execution_count": 7,
   "metadata": {},
   "outputs": [
    {
     "data": {
      "text/html": [
       "<ol class=list-inline>\n",
       "\t<li>720</li>\n",
       "\t<li>360</li>\n",
       "\t<li>4</li>\n",
       "</ol>\n"
      ],
      "text/latex": [
       "\\begin{enumerate*}\n",
       "\\item 720\n",
       "\\item 360\n",
       "\\item 4\n",
       "\\end{enumerate*}\n"
      ],
      "text/markdown": [
       "1. 720\n",
       "2. 360\n",
       "3. 4\n",
       "\n",
       "\n"
      ],
      "text/plain": [
       "[1] 720 360   4"
      ]
     },
     "metadata": {},
     "output_type": "display_data"
    }
   ],
   "source": [
    "crop_prod_5year_mean = apply(X = crop_prod[,,46:50,], FUN = mean, MARGIN = c(1,2,4), na.rm = T)\n",
    "dim(crop_prod_5year_mean)"
   ]
  },
  {
   "cell_type": "code",
   "execution_count": 8,
   "metadata": {},
   "outputs": [
    {
     "data": {
      "text/html": [
       "144"
      ],
      "text/latex": [
       "144"
      ],
      "text/markdown": [
       "144"
      ],
      "text/plain": [
       "[1] 144"
      ]
     },
     "metadata": {},
     "output_type": "display_data"
    },
    {
     "data": {
      "text/html": [
       "91"
      ],
      "text/latex": [
       "91"
      ],
      "text/markdown": [
       "91"
      ],
      "text/plain": [
       "[1] 91"
      ]
     },
     "metadata": {},
     "output_type": "display_data"
    }
   ],
   "source": [
    "# lat and lon of TEMIR outputs\n",
    "lat = seq(-90,90,2)\n",
    "lon = seq(-180,177.5,2.5)\n",
    "# output grid\n",
    "prod_2degree = array(NaN, dim=c(length(lon),length(lat),length(crop.name)))\n",
    "length(lon)\n",
    "length(lat)"
   ]
  },
  {
   "cell_type": "code",
   "execution_count": 11,
   "metadata": {},
   "outputs": [
    {
     "name": "stdout",
     "output_type": "stream",
     "text": [
      "  [1] -179.75 -179.25 -178.75 -178.25 -177.75 -177.25 -176.75 -176.25 -175.75\n",
      " [10] -175.25 -174.75 -174.25 -173.75 -173.25 -172.75 -172.25 -171.75 -171.25\n",
      " [19] -170.75 -170.25 -169.75 -169.25 -168.75 -168.25 -167.75 -167.25 -166.75\n",
      " [28] -166.25 -165.75 -165.25 -164.75 -164.25 -163.75 -163.25 -162.75 -162.25\n",
      " [37] -161.75 -161.25 -160.75 -160.25 -159.75 -159.25 -158.75 -158.25 -157.75\n",
      " [46] -157.25 -156.75 -156.25 -155.75 -155.25 -154.75 -154.25 -153.75 -153.25\n",
      " [55] -152.75 -152.25 -151.75 -151.25 -150.75 -150.25 -149.75 -149.25 -148.75\n",
      " [64] -148.25 -147.75 -147.25 -146.75 -146.25 -145.75 -145.25 -144.75 -144.25\n",
      " [73] -143.75 -143.25 -142.75 -142.25 -141.75 -141.25 -140.75 -140.25 -139.75\n",
      " [82] -139.25 -138.75 -138.25 -137.75 -137.25 -136.75 -136.25 -135.75 -135.25\n",
      " [91] -134.75 -134.25 -133.75 -133.25 -132.75 -132.25 -131.75 -131.25 -130.75\n",
      "[100] -130.25 -129.75 -129.25 -128.75 -128.25 -127.75 -127.25 -126.75 -126.25\n",
      "[109] -125.75 -125.25 -124.75 -124.25 -123.75 -123.25 -122.75 -122.25 -121.75\n",
      "[118] -121.25 -120.75 -120.25 -119.75 -119.25 -118.75 -118.25 -117.75 -117.25\n",
      "[127] -116.75 -116.25 -115.75 -115.25 -114.75 -114.25 -113.75 -113.25 -112.75\n",
      "[136] -112.25 -111.75 -111.25 -110.75 -110.25 -109.75 -109.25 -108.75 -108.25\n",
      "[145] -107.75 -107.25 -106.75 -106.25 -105.75 -105.25 -104.75 -104.25 -103.75\n",
      "[154] -103.25 -102.75 -102.25 -101.75 -101.25 -100.75 -100.25  -99.75  -99.25\n",
      "[163]  -98.75  -98.25  -97.75  -97.25  -96.75  -96.25  -95.75  -95.25  -94.75\n",
      "[172]  -94.25  -93.75  -93.25  -92.75  -92.25  -91.75  -91.25  -90.75  -90.25\n",
      "[181]  -89.75  -89.25  -88.75  -88.25  -87.75  -87.25  -86.75  -86.25  -85.75\n",
      "[190]  -85.25  -84.75  -84.25  -83.75  -83.25  -82.75  -82.25  -81.75  -81.25\n",
      "[199]  -80.75  -80.25  -79.75  -79.25  -78.75  -78.25  -77.75  -77.25  -76.75\n",
      "[208]  -76.25  -75.75  -75.25  -74.75  -74.25  -73.75  -73.25  -72.75  -72.25\n",
      "[217]  -71.75  -71.25  -70.75  -70.25  -69.75  -69.25  -68.75  -68.25  -67.75\n",
      "[226]  -67.25  -66.75  -66.25  -65.75  -65.25  -64.75  -64.25  -63.75  -63.25\n",
      "[235]  -62.75  -62.25  -61.75  -61.25  -60.75  -60.25  -59.75  -59.25  -58.75\n",
      "[244]  -58.25  -57.75  -57.25  -56.75  -56.25  -55.75  -55.25  -54.75  -54.25\n",
      "[253]  -53.75  -53.25  -52.75  -52.25  -51.75  -51.25  -50.75  -50.25  -49.75\n",
      "[262]  -49.25  -48.75  -48.25  -47.75  -47.25  -46.75  -46.25  -45.75  -45.25\n",
      "[271]  -44.75  -44.25  -43.75  -43.25  -42.75  -42.25  -41.75  -41.25  -40.75\n",
      "[280]  -40.25  -39.75  -39.25  -38.75  -38.25  -37.75  -37.25  -36.75  -36.25\n",
      "[289]  -35.75  -35.25  -34.75  -34.25  -33.75  -33.25  -32.75  -32.25  -31.75\n",
      "[298]  -31.25  -30.75  -30.25  -29.75  -29.25  -28.75  -28.25  -27.75  -27.25\n",
      "[307]  -26.75  -26.25  -25.75  -25.25  -24.75  -24.25  -23.75  -23.25  -22.75\n",
      "[316]  -22.25  -21.75  -21.25  -20.75  -20.25  -19.75  -19.25  -18.75  -18.25\n",
      "[325]  -17.75  -17.25  -16.75  -16.25  -15.75  -15.25  -14.75  -14.25  -13.75\n",
      "[334]  -13.25  -12.75  -12.25  -11.75  -11.25  -10.75  -10.25   -9.75   -9.25\n",
      "[343]   -8.75   -8.25   -7.75   -7.25   -6.75   -6.25   -5.75   -5.25   -4.75\n",
      "[352]   -4.25   -3.75   -3.25   -2.75   -2.25   -1.75   -1.25   -0.75   -0.25\n",
      "[361]    0.25    0.75    1.25    1.75    2.25    2.75    3.25    3.75    4.25\n",
      "[370]    4.75    5.25    5.75    6.25    6.75    7.25    7.75    8.25    8.75\n",
      "[379]    9.25    9.75   10.25   10.75   11.25   11.75   12.25   12.75   13.25\n",
      "[388]   13.75   14.25   14.75   15.25   15.75   16.25   16.75   17.25   17.75\n",
      "[397]   18.25   18.75   19.25   19.75   20.25   20.75   21.25   21.75   22.25\n",
      "[406]   22.75   23.25   23.75   24.25   24.75   25.25   25.75   26.25   26.75\n",
      "[415]   27.25   27.75   28.25   28.75   29.25   29.75   30.25   30.75   31.25\n",
      "[424]   31.75   32.25   32.75   33.25   33.75   34.25   34.75   35.25   35.75\n",
      "[433]   36.25   36.75   37.25   37.75   38.25   38.75   39.25   39.75   40.25\n",
      "[442]   40.75   41.25   41.75   42.25   42.75   43.25   43.75   44.25   44.75\n",
      "[451]   45.25   45.75   46.25   46.75   47.25   47.75   48.25   48.75   49.25\n",
      "[460]   49.75   50.25   50.75   51.25   51.75   52.25   52.75   53.25   53.75\n",
      "[469]   54.25   54.75   55.25   55.75   56.25   56.75   57.25   57.75   58.25\n",
      "[478]   58.75   59.25   59.75   60.25   60.75   61.25   61.75   62.25   62.75\n",
      "[487]   63.25   63.75   64.25   64.75   65.25   65.75   66.25   66.75   67.25\n",
      "[496]   67.75   68.25   68.75   69.25   69.75   70.25   70.75   71.25   71.75\n",
      "[505]   72.25   72.75   73.25   73.75   74.25   74.75   75.25   75.75   76.25\n",
      "[514]   76.75   77.25   77.75   78.25   78.75   79.25   79.75   80.25   80.75\n",
      "[523]   81.25   81.75   82.25   82.75   83.25   83.75   84.25   84.75   85.25\n",
      "[532]   85.75   86.25   86.75   87.25   87.75   88.25   88.75   89.25   89.75\n",
      "[541]   90.25   90.75   91.25   91.75   92.25   92.75   93.25   93.75   94.25\n",
      "[550]   94.75   95.25   95.75   96.25   96.75   97.25   97.75   98.25   98.75\n",
      "[559]   99.25   99.75  100.25  100.75  101.25  101.75  102.25  102.75  103.25\n",
      "[568]  103.75  104.25  104.75  105.25  105.75  106.25  106.75  107.25  107.75\n",
      "[577]  108.25  108.75  109.25  109.75  110.25  110.75  111.25  111.75  112.25\n",
      "[586]  112.75  113.25  113.75  114.25  114.75  115.25  115.75  116.25  116.75\n",
      "[595]  117.25  117.75  118.25  118.75  119.25  119.75  120.25  120.75  121.25\n",
      "[604]  121.75  122.25  122.75  123.25  123.75  124.25  124.75  125.25  125.75\n",
      "[613]  126.25  126.75  127.25  127.75  128.25  128.75  129.25  129.75  130.25\n",
      "[622]  130.75  131.25  131.75  132.25  132.75  133.25  133.75  134.25  134.75\n",
      "[631]  135.25  135.75  136.25  136.75  137.25  137.75  138.25  138.75  139.25\n",
      "[640]  139.75  140.25  140.75  141.25  141.75  142.25  142.75  143.25  143.75\n",
      "[649]  144.25  144.75  145.25  145.75  146.25  146.75  147.25  147.75  148.25\n",
      "[658]  148.75  149.25  149.75  150.25  150.75  151.25  151.75  152.25  152.75\n",
      "[667]  153.25  153.75  154.25  154.75  155.25  155.75  156.25  156.75  157.25\n",
      "[676]  157.75  158.25  158.75  159.25  159.75  160.25  160.75  161.25  161.75\n",
      "[685]  162.25  162.75  163.25  163.75  164.25  164.75  165.25  165.75  166.25\n",
      "[694]  166.75  167.25  167.75  168.25  168.75  169.25  169.75  170.25  170.75\n",
      "[703]  171.25  171.75  172.25  172.75  173.25  173.75  174.25  174.75  175.25\n",
      "[712]  175.75  176.25  176.75  177.25  177.75  178.25  178.75  179.25  179.75\n",
      "[1] 1440\n"
     ]
    },
    {
     "data": {
      "text/html": [
       "<ol class=list-inline>\n",
       "\t<li>1440</li>\n",
       "\t<li>360</li>\n",
       "\t<li>4</li>\n",
       "</ol>\n"
      ],
      "text/latex": [
       "\\begin{enumerate*}\n",
       "\\item 1440\n",
       "\\item 360\n",
       "\\item 4\n",
       "\\end{enumerate*}\n"
      ],
      "text/markdown": [
       "1. 1440\n",
       "2. 360\n",
       "3. 4\n",
       "\n",
       "\n"
      ],
      "text/plain": [
       "[1] 1440  360    4"
      ]
     },
     "metadata": {},
     "output_type": "display_data"
    },
    {
     "data": {
      "text/html": [
       "783018849.145532"
      ],
      "text/latex": [
       "783018849.145532"
      ],
      "text/markdown": [
       "783018849.145532"
      ],
      "text/plain": [
       "[1] 783018849"
      ]
     },
     "metadata": {},
     "output_type": "display_data"
    },
    {
     "data": {
      "text/html": [
       "783018849.145532"
      ],
      "text/latex": [
       "783018849.145532"
      ],
      "text/markdown": [
       "783018849.145532"
      ],
      "text/plain": [
       "[1] 783018849"
      ]
     },
     "metadata": {},
     "output_type": "display_data"
    }
   ],
   "source": [
    "# split lon grids in half, for regridding\n",
    "crop_prod_0.5x0.25 = array(NaN, dim=c(2*length(`lon.0.5`),length(`lat.0.5`),4))\n",
    "lon.0.25 = seq(-179.875,179.875,0.25)\n",
    "print(lon.0.5)\n",
    "print(length(lon.0.25))\n",
    "dim(crop_prod_0.5x0.25)\n",
    "sum(crop_prod_5year_mean[,,3], na.rm = T) # global total prod. in tonnes\n",
    "for(ilon in 1:(2*length(`lon.0.5`))){\n",
    "    lon.ind = as.integer((ilon+1)/2)\n",
    "    crop_prod_0.5x0.25[ilon,,] = 0.5*crop_prod_5year_mean[lon.ind,,]\n",
    "    }\n",
    "sum(crop_prod_0.5x0.25[,,3], na.rm = T)"
   ]
  },
  {
   "cell_type": "code",
   "execution_count": 10,
   "metadata": {},
   "outputs": [
    {
     "name": "stdout",
     "output_type": "stream",
     "text": [
      "[1] \"global total production wheat before regriding: 592623510.164863\"\n",
      "[1] \"global total production rice before regriding: 585787092.260699\"\n",
      "[1] \"global total production maize before regriding: 783018849.145532\"\n",
      "[1] \"global total production soybean before regriding: 246496717.554033\"\n"
     ]
    }
   ],
   "source": [
    "# before and after regridding\n",
    "before = crop_prod_0.5x0.25\n",
    "after = prod_2degree\n",
    "\n",
    "for(icrop in 1:length(crop.name)){\n",
    "    print(paste('global total production', crop.name[icrop], 'before regriding:', sum(before[,,icrop], na.rm = T)))\n",
    "\n",
    "    for(ilat in 1:length(lat))\n",
    "    for(ilon in 1:length(lon)){ # summing up grids belong to coarser grid\n",
    "        \n",
    "        # get the subset of data in finer grid that falls into coarser grid\n",
    "        \n",
    "        # 1, get lat indices\n",
    "        if(ilat == 1) lat.ind = c(1,2) # first and last box contains only 2 finer grids\n",
    "        else if(ilat == length(lat)) lat.ind = c(length(`lat.0.5`)-1,length(`lat.0.5`))\n",
    "        # ilat = 2, lat.ind = 3,4,5,6, ilat = 3, lat.ind = 7,8,9,10\n",
    "        else lat.ind = (3+(ilat-2)*4):(2+(ilat-1)*4)\n",
    "        #print(lat.ind)\n",
    "        \n",
    "        # 2, get lon indices\n",
    "        if(ilon == 1) lon.ind = c(1:5,(2*length(`lon.0.5`)-4):(2*length(`lon.0.5`))) \n",
    "        #ilon = 2, lon.ind = 6:15, ilon = 3, lon.ind = 16:25\n",
    "        else lon.ind = (6+(ilon-2)*10):(5+(ilon-1)*10)\n",
    "        \n",
    "        subset = before[lon.ind,lat.ind,]\n",
    "        after[ilon,ilat,icrop] = sum(subset[,,icrop], na.rm = T) # sum up the subset of data\n",
    "    }\n",
    "    #print(paste('global total production', crop.name[icrop], 'after regriding:', sum(after[,,icrop], na.rm = T)))\n",
    "    #plot.field(after[,,i], lon, lat)\n",
    "}\n",
    "prod_2degree = after"
   ]
  },
  {
   "cell_type": "code",
   "execution_count": 12,
   "metadata": {},
   "outputs": [],
   "source": [
    "crop.types = c('Wheat', 'Rice', 'Maize', 'Soybean')\n",
    "for(i in 1:4) assign(x = paste0('prod_', crop.types[i]), value = prod_2degree[,,i])\n",
    "\n",
    "setwd('~/Desktop/analysis/data/crop')\n",
    "unit.info = 'crop.prod: ton/grid cell'\n",
    "save(list = c('prod_Maize', 'prod_Rice', 'prod_Soybean', 'prod_Wheat', 'crop.types', 'unit.info'), file = 'crop_prod.RData')"
   ]
  },
  {
   "cell_type": "code",
   "execution_count": null,
   "metadata": {},
   "outputs": [],
   "source": []
  }
 ],
 "metadata": {
  "kernelspec": {
   "display_name": "R",
   "language": "R",
   "name": "ir"
  },
  "language_info": {
   "codemirror_mode": "r",
   "file_extension": ".r",
   "mimetype": "text/x-r-source",
   "name": "R",
   "pygments_lexer": "r",
   "version": "3.4.1"
  }
 },
 "nbformat": 4,
 "nbformat_minor": 2
}
